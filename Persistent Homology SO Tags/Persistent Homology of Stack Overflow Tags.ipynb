{
 "cells": [
  {
   "cell_type": "markdown",
   "id": "b0bbe267",
   "metadata": {},
   "source": [
    "# PersistentHomologySE\n",
    "This project computes the persistent homology on a subset of the most popular [Stack Overflow](https://stackoverflow.com/) tags.\n",
    "The idea is that this type of analysis may reveal distinct \"clusters\" of tags which are often used on the same post\n",
    "(i.e., one might expect \"javascript\" and \"json\" to be tagged on the same posts more frequently than \"javascript\" and \"python\").\n",
    "\n",
    "## Data Cleaning\n",
    "Ideally, we could compute the persistent homology of tags over $\\textit{all}$ posts on Stack Overflow, but the data set of all such posts is far too large for most machines to handle.\n",
    "Instead, it is computationally easier to work with a random sample of $50,000$ posts obtained via the [Data Explorer](https://data.stackexchange.com/).\n",
    "Additionally, it also makes sense to consider only the \"sufficiently popular\" tags. We have no need to consider the clustering of tags used, say, $3$ times across the entire website.\n",
    "The program starts with the $21,480$ most popular tags (all other tags have less than $100$ uses across all of Stack Exchange) then counts only those with $\\textit{at least}$ $100$ uses across the $50,000$ posts.\n",
    "This substantially reduces the number of tags we're working with to make the remaining work less time consuming."
   ]
  },
  {
   "cell_type": "code",
   "execution_count": 1,
   "id": "2d079c03",
   "metadata": {},
   "outputs": [],
   "source": [
    "from csv import writer\n",
    "import re #needed to handle special characters when searching for tags (i.e., c++)\n",
    "import matplotlib as plt #needed for visualization\n",
    "import pandas as pd\n",
    "import gudhi"
   ]
  },
  {
   "cell_type": "markdown",
   "id": "ea1f51cf",
   "metadata": {},
   "source": [
    "Now that we have our imports, we can read in the sample of posts and the tags. Of particular interest is the tag"
   ]
  },
  {
   "cell_type": "code",
   "execution_count": 2,
   "id": "baae587c",
   "metadata": {},
   "outputs": [
    {
     "data": {
      "text/html": [
       "<div>\n",
       "<style scoped>\n",
       "    .dataframe tbody tr th:only-of-type {\n",
       "        vertical-align: middle;\n",
       "    }\n",
       "\n",
       "    .dataframe tbody tr th {\n",
       "        vertical-align: top;\n",
       "    }\n",
       "\n",
       "    .dataframe thead th {\n",
       "        text-align: right;\n",
       "    }\n",
       "</style>\n",
       "<table border=\"1\" class=\"dataframe\">\n",
       "  <thead>\n",
       "    <tr style=\"text-align: right;\">\n",
       "      <th></th>\n",
       "      <th>Tags</th>\n",
       "    </tr>\n",
       "  </thead>\n",
       "  <tbody>\n",
       "    <tr>\n",
       "      <th>0</th>\n",
       "      <td>&lt;android&gt;&lt;listview&gt;</td>\n",
       "    </tr>\n",
       "    <tr>\n",
       "      <th>1</th>\n",
       "      <td>&lt;javascript&gt;&lt;titanium&gt;&lt;appcelerator&gt;&lt;titanium-...</td>\n",
       "    </tr>\n",
       "    <tr>\n",
       "      <th>2</th>\n",
       "      <td>&lt;javascript&gt;&lt;stylesheet&gt;</td>\n",
       "    </tr>\n",
       "    <tr>\n",
       "      <th>3</th>\n",
       "      <td>&lt;c#&gt;&lt;list&gt;&lt;loops&gt;</td>\n",
       "    </tr>\n",
       "    <tr>\n",
       "      <th>4</th>\n",
       "      <td>&lt;python&gt;&lt;.net&gt;&lt;python-3.x&gt;&lt;replace&gt;&lt;character-...</td>\n",
       "    </tr>\n",
       "  </tbody>\n",
       "</table>\n",
       "</div>"
      ],
      "text/plain": [
       "                                                Tags\n",
       "0                                <android><listview>\n",
       "1  <javascript><titanium><appcelerator><titanium-...\n",
       "2                           <javascript><stylesheet>\n",
       "3                                  <c#><list><loops>\n",
       "4  <python><.net><python-3.x><replace><character-..."
      ]
     },
     "execution_count": 2,
     "metadata": {},
     "output_type": "execute_result"
    }
   ],
   "source": [
    "all_Posts = pd.read_csv('PostSample.csv')\n",
    "all_Posts.head()"
   ]
  },
  {
   "cell_type": "code",
   "execution_count": 4,
   "id": "098274f1",
   "metadata": {},
   "outputs": [
    {
     "data": {
      "text/html": [
       "<div>\n",
       "<style scoped>\n",
       "    .dataframe tbody tr th:only-of-type {\n",
       "        vertical-align: middle;\n",
       "    }\n",
       "\n",
       "    .dataframe tbody tr th {\n",
       "        vertical-align: top;\n",
       "    }\n",
       "\n",
       "    .dataframe thead th {\n",
       "        text-align: right;\n",
       "    }\n",
       "</style>\n",
       "<table border=\"1\" class=\"dataframe\">\n",
       "  <thead>\n",
       "    <tr style=\"text-align: right;\">\n",
       "      <th></th>\n",
       "      <th>TagName</th>\n",
       "    </tr>\n",
       "  </thead>\n",
       "  <tbody>\n",
       "    <tr>\n",
       "      <th>0</th>\n",
       "      <td>javascript</td>\n",
       "    </tr>\n",
       "    <tr>\n",
       "      <th>1</th>\n",
       "      <td>python</td>\n",
       "    </tr>\n",
       "    <tr>\n",
       "      <th>2</th>\n",
       "      <td>java</td>\n",
       "    </tr>\n",
       "    <tr>\n",
       "      <th>3</th>\n",
       "      <td>c#</td>\n",
       "    </tr>\n",
       "    <tr>\n",
       "      <th>4</th>\n",
       "      <td>php</td>\n",
       "    </tr>\n",
       "  </tbody>\n",
       "</table>\n",
       "</div>"
      ],
      "text/plain": [
       "      TagName\n",
       "0  javascript\n",
       "1      python\n",
       "2        java\n",
       "3          c#\n",
       "4         php"
      ]
     },
     "execution_count": 4,
     "metadata": {},
     "output_type": "execute_result"
    }
   ],
   "source": [
    "all_Tags = pd.read_csv('PopularTags.csv')\n",
    "all_Tags.head()"
   ]
  },
  {
   "cell_type": "markdown",
   "id": "58aa13d4",
   "metadata": {},
   "source": [
    "From the above, we can see that filtering the tags is straightforward. Unfortunately, due to the need to repeatedly sum the occurrence of each tag over all posts, many efficient tricks such as comprehension or vectorization do not help the slow run-time. As such, the most straightforward approach is shown:"
   ]
  },
  {
   "cell_type": "code",
   "execution_count": 5,
   "id": "0481b2c1",
   "metadata": {},
   "outputs": [
    {
     "data": {
      "text/html": [
       "<div>\n",
       "<style scoped>\n",
       "    .dataframe tbody tr th:only-of-type {\n",
       "        vertical-align: middle;\n",
       "    }\n",
       "\n",
       "    .dataframe tbody tr th {\n",
       "        vertical-align: top;\n",
       "    }\n",
       "\n",
       "    .dataframe thead th {\n",
       "        text-align: right;\n",
       "    }\n",
       "</style>\n",
       "<table border=\"1\" class=\"dataframe\">\n",
       "  <thead>\n",
       "    <tr style=\"text-align: right;\">\n",
       "      <th></th>\n",
       "      <th>Tags</th>\n",
       "    </tr>\n",
       "  </thead>\n",
       "  <tbody>\n",
       "    <tr>\n",
       "      <th>0</th>\n",
       "      <td>&lt;javascript&gt;</td>\n",
       "    </tr>\n",
       "    <tr>\n",
       "      <th>1</th>\n",
       "      <td>&lt;python&gt;</td>\n",
       "    </tr>\n",
       "    <tr>\n",
       "      <th>2</th>\n",
       "      <td>&lt;java&gt;</td>\n",
       "    </tr>\n",
       "    <tr>\n",
       "      <th>3</th>\n",
       "      <td>&lt;c#&gt;</td>\n",
       "    </tr>\n",
       "    <tr>\n",
       "      <th>4</th>\n",
       "      <td>&lt;php&gt;</td>\n",
       "    </tr>\n",
       "  </tbody>\n",
       "</table>\n",
       "</div>"
      ],
      "text/plain": [
       "           Tags\n",
       "0  <javascript>\n",
       "1      <python>\n",
       "2        <java>\n",
       "3          <c#>\n",
       "4         <php>"
      ]
     },
     "execution_count": 5,
     "metadata": {},
     "output_type": "execute_result"
    }
   ],
   "source": [
    "count = 0 #track the number of times a tag is used in the sample\n",
    "#write new csv containing only the tags used in at least 0.2% of posts\n",
    "with open(\"ImportantTags.csv\", 'w', newline='') as f_object:\n",
    "    writer_object = writer(f_object)\n",
    "    writer_object.writerow(['Tags'])\n",
    "    for t in all_Tags[\"TagName\"]:\n",
    "        t = '<' + str(t) + '>'\n",
    "        count = all_Posts[\"Tags\"].str.count(re.escape(t)).sum()\n",
    "        if count >= 100:\n",
    "            writer_object.writerow([str(t)])\n",
    "f_object.close()\n",
    "#we may as well re-use the dataframe all_Tags, since the \"important tags\" are the all the ones we care about\n",
    "all_Tags = None\n",
    "all_Tags = pd.read_csv('ImportantTags.csv')\n",
    "all_Tags.head()"
   ]
  },
  {
   "cell_type": "markdown",
   "id": "5dce1883",
   "metadata": {},
   "source": [
    "This narrows down our number of tags quite a bit:"
   ]
  },
  {
   "cell_type": "code",
   "execution_count": 6,
   "id": "60d1dc79",
   "metadata": {},
   "outputs": [
    {
     "data": {
      "text/html": [
       "<div>\n",
       "<style scoped>\n",
       "    .dataframe tbody tr th:only-of-type {\n",
       "        vertical-align: middle;\n",
       "    }\n",
       "\n",
       "    .dataframe tbody tr th {\n",
       "        vertical-align: top;\n",
       "    }\n",
       "\n",
       "    .dataframe thead th {\n",
       "        text-align: right;\n",
       "    }\n",
       "</style>\n",
       "<table border=\"1\" class=\"dataframe\">\n",
       "  <thead>\n",
       "    <tr style=\"text-align: right;\">\n",
       "      <th></th>\n",
       "      <th>Tags</th>\n",
       "    </tr>\n",
       "  </thead>\n",
       "  <tbody>\n",
       "    <tr>\n",
       "      <th>183</th>\n",
       "      <td>&lt;database-design&gt;</td>\n",
       "    </tr>\n",
       "    <tr>\n",
       "      <th>184</th>\n",
       "      <td>&lt;sql-server-2005&gt;</td>\n",
       "    </tr>\n",
       "    <tr>\n",
       "      <th>185</th>\n",
       "      <td>&lt;version-control&gt;</td>\n",
       "    </tr>\n",
       "    <tr>\n",
       "      <th>186</th>\n",
       "      <td>&lt;visual-studio-2008&gt;</td>\n",
       "    </tr>\n",
       "    <tr>\n",
       "      <th>187</th>\n",
       "      <td>&lt;language-agnostic&gt;</td>\n",
       "    </tr>\n",
       "  </tbody>\n",
       "</table>\n",
       "</div>"
      ],
      "text/plain": [
       "                     Tags\n",
       "183     <database-design>\n",
       "184     <sql-server-2005>\n",
       "185     <version-control>\n",
       "186  <visual-studio-2008>\n",
       "187   <language-agnostic>"
      ]
     },
     "execution_count": 6,
     "metadata": {},
     "output_type": "execute_result"
    }
   ],
   "source": [
    "all_Tags.tail()"
   ]
  },
  {
   "cell_type": "markdown",
   "id": "82a76c97",
   "metadata": {},
   "source": [
    "Now we are only working with 187 tags. One could always refine this further to allow more tags, as stated above it does not seem prudent to consider tags used in less than $0.2 \\%$ of posts. As it turns out, we have some more work to do: we need to determine a suitable metric for the tags."
   ]
  },
  {
   "cell_type": "markdown",
   "id": "31c89f46",
   "metadata": {},
   "source": [
    "## Metrizing the Set of Tags\n",
    "Persistent homology is useful for determining clusters in Euclidean space, but there is no meaningful way to embed Stack Overflow tags into $\\mathbb{R}^n$.\n",
    "In particular, we need a metric to determine \"closeness\" of tags.\n",
    "Intuitively, two tags $T$ and $U$ should be considered close if they are freqeuntly used on the same posts. So if we let $P$ be the set of all posts tagged with $T$ and $Q$ be the set of all posts tagged with $U$, we should expect $T$ and $U$ to be close if there is significant overlap with $P$ and $Q$. More precisely, a metric we can put on T and U is given by $1- \\frac{|P \\cap Q|}{|P \\cup Q|}$, where $|\\cdot|$ denotes set cardinality.\n",
    "With this metric, we construct the distance matrix formed by pairwise distances of the tags and then use [GUDHI](https://gudhi.inria.fr/) to finish the remaining work.\n"
   ]
  },
  {
   "cell_type": "code",
   "execution_count": 7,
   "id": "f2db4a39",
   "metadata": {},
   "outputs": [],
   "source": [
    "# we need to track the number of posts tagged with tag_A or tag_B, and the number of posts tagged with both\n",
    "count_AuB = 0\n",
    "count_AnB = 0\n",
    "\n",
    "# currentCell is used to store each cell of a particular row\n",
    "# each entry is indexed by tag_A,tag_B and the value stored is the distance between them\n",
    "currentCell = []\n",
    "\n",
    "# per_Row is the dictionary that stores each row\n",
    "# it is constructed to easily save the distance matrix as a csv\n",
    "per_Row = {}"
   ]
  },
  {
   "cell_type": "markdown",
   "id": "fbce4aa3",
   "metadata": {},
   "source": [
    "We must once again sum occurrences of each tag over all posts, and this time we also need an extra check over all posts, there is no easy way to determine $|A \\cap B|$ unless we specifically search for both tags in each post. This bottlenecks any efficient tricks we could resort to, just as it did for filtering the tags, so once again the most straightforward approach is shown:"
   ]
  },
  {
   "cell_type": "code",
   "execution_count": 8,
   "id": "b8ba8495",
   "metadata": {},
   "outputs": [],
   "source": [
    "# take tag_A and compare it with every single tag, including itself\n",
    "for tag_A in all_Tags[\"Tags\"]:\n",
    "    count_A = all_Posts[\"Tags\"].str.count(re.escape(tag_A)).sum()\n",
    "    for tag_B in all_Tags[\"Tags\"]:\n",
    "        count_B = all_Posts[\"Tags\"].str.count(re.escape(tag_B)).sum()\n",
    "        # unfortunately, we must determine count_AnB the old-fashioned way\n",
    "        for posts in all_Posts[\"Tags\"]:\n",
    "            if tag_A in posts and tag_B in posts:\n",
    "                count_AnB = count_AnB + 1\n",
    "        count_AuB = count_A + count_B - count_AnB\n",
    "        # calculate the distance, store it in currentCell, and prepare to repeat with the next tag\n",
    "        dist_AB = 1 - count_AnB / count_AuB\n",
    "        currentCell = [*currentCell, dist_AB]\n",
    "        count_AnB = 0\n",
    "    # once we've compared tag_A to every tag, the whole row is complete\n",
    "    per_Row[str(tag_A)] = currentCell\n",
    "    currentCell = []\n",
    "# save the dictionary as a csv, which will act as our distance matrix\n",
    "# no headers since GUDHI needs the distance matrix to consist solely of numbers\n",
    "(pd.DataFrame.from_dict(per_Row).to_csv('DistanceMatrix.csv', header=False))    "
   ]
  },
  {
   "cell_type": "markdown",
   "id": "31f785b8",
   "metadata": {},
   "source": [
    "## Results\n",
    "Once the distance matrix is ready, we use GUDHI to build a Vietoris-Rips complex, store this complex in a simplex-tree, and use the simplex-tree to compute both the barcode and persistence diagram of the most relevant tags."
   ]
  },
  {
   "cell_type": "code",
   "execution_count": 9,
   "id": "cff14d60",
   "metadata": {},
   "outputs": [
    {
     "data": {
      "image/png": "[encoded data removed]",
      "text/plain": [
       "<Figure size 432x288 with 1 Axes>"
      ]
     },
     "metadata": {
      "needs_background": "light"
     },
     "output_type": "display_data"
    },
    {
     "data": {
      "image/png": "[encoded data removed]",
      "text/plain": [
       "<Figure size 432x288 with 1 Axes>"
      ]
     },
     "metadata": {
      "needs_background": "light"
     },
     "output_type": "display_data"
    }
   ],
   "source": [
    "# build VR complex\n",
    "VR_complex = gudhi.RipsComplex\\\n",
    "    (distance_matrix=gudhi.reader_utils.read_lower_triangular_matrix_from_csv_file\n",
    "    ('DistanceMatrix.csv'), max_edge_length=1)\n",
    "#then use the complex to build a simplex tree (only dimension 1 is needed since we are focused on clustering)\n",
    "simplex_tree = VR_complex.create_simplex_tree(max_dimension=1)\n",
    "\n",
    "# Compute the persistence, plot and save the barcode and the persistence diagram, then display\n",
    "persistent_hom = simplex_tree.persistence()\n",
    "gudhi.persistence_graphical_tools.plot_persistence_barcode(persistent_hom)\n",
    "plt.pyplot.savefig('Barcode')\n",
    "gudhi.persistence_graphical_tools.plot_persistence_diagram(persistent_hom)\n",
    "plt.pyplot.savefig('PersistenceDiagram')\n",
    "plt.pyplot.show()"
   ]
  },
  {
   "cell_type": "markdown",
   "id": "c5e267b0",
   "metadata": {},
   "source": [
    "From barcode and diagram, we conclude there are two distinct clusters of tags; interestingly, these two clusters each persist indefenitely (although one cluster seems to die at $1$, one can check that, under the metric we used, tags cannot be further than a distance of $1$ apart)."
   ]
  },
  {
   "cell_type": "code",
   "execution_count": null,
   "id": "765d794b",
   "metadata": {},
   "outputs": [],
   "source": []
  }
 ],
 "metadata": {
  "kernelspec": {
   "display_name": "Python 3 (ipykernel)",
   "language": "python",
   "name": "python3"
  },
  "language_info": {
   "codemirror_mode": {
    "name": "ipython",
    "version": 3
   },
   "file_extension": ".py",
   "mimetype": "text/x-python",
   "name": "python",
   "nbconvert_exporter": "python",
   "pygments_lexer": "ipython3",
   "version": "3.9.1"
  }
 },
 "nbformat": 4,
 "nbformat_minor": 5
}
