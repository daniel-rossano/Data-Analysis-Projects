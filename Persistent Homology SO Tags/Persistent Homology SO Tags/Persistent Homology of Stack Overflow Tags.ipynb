{
 "cells": [
  {
   "cell_type": "markdown",
   "id": "b0bbe267",
   "metadata": {},
   "source": [
    "# Persistent Homology of Stack Overflow Tags\n",
    "This project computes the persistent homology on a subset of the most popular [Stack Overflow](https://stackoverflow.com/) tags.\n",
    "The idea is that this type of analysis may reveal distinct \"clusters\" of tags which are often used on the same post\n",
    "(i.e., one might expect \"javascript\" and \"json\" to be tagged on the same posts more frequently than \"javascript\" and \"python\").\n",
    "\n",
    "## Data Cleaning\n",
    "Ideally, we could compute the persistent homology of tags over $\\textit{all}$ posts on Stack Overflow, but the data set of all such posts is far too large for most machines to handle.\n",
    "Instead, it is computationally easier to work with a random sample of $50,000$ posts obtained via the [Data Explorer](https://data.stackexchange.com/).\n",
    "Additionally, it also makes sense to consider only the \"sufficiently popular\" tags. We have no need to consider the clustering of tags used, say, $3$ times across the entire website.\n",
    "The program starts with the $21,480$ most popular tags (all other tags have less than $100$ uses across all of Stack Exchange) then counts only those with $\\textit{at least}$ $100$ uses across the $50,000$ posts.\n",
    "This substantially reduces the number of tags we're working with to make the remaining work less time consuming."
   ]
  },
  {
   "cell_type": "code",
   "execution_count": 1,
   "id": "2d079c03",
   "metadata": {},
   "outputs": [],
   "source": [
    "from csv import writer\n",
    "import re #needed to handle special characters when searching for tags (i.e., c++)\n",
    "import matplotlib as plt #needed for visualization\n",
    "import pandas as pd\n",
    "import gudhi"
   ]
  },
  {
   "cell_type": "markdown",
   "id": "ea1f51cf",
   "metadata": {},
   "source": [
    "Now that we have our imports, we can read in the sample of posts and the tags. Of particular interest is the tag"
   ]
  },
  {
   "cell_type": "code",
   "execution_count": 2,
   "id": "baae587c",
   "metadata": {},
   "outputs": [
    {
     "data": {
      "text/html": [
       "<div>\n",
       "<style scoped>\n",
       "    .dataframe tbody tr th:only-of-type {\n",
       "        vertical-align: middle;\n",
       "    }\n",
       "\n",
       "    .dataframe tbody tr th {\n",
       "        vertical-align: top;\n",
       "    }\n",
       "\n",
       "    .dataframe thead th {\n",
       "        text-align: right;\n",
       "    }\n",
       "</style>\n",
       "<table border=\"1\" class=\"dataframe\">\n",
       "  <thead>\n",
       "    <tr style=\"text-align: right;\">\n",
       "      <th></th>\n",
       "      <th>Tags</th>\n",
       "    </tr>\n",
       "  </thead>\n",
       "  <tbody>\n",
       "    <tr>\n",
       "      <th>0</th>\n",
       "      <td>&lt;android&gt;&lt;listview&gt;</td>\n",
       "    </tr>\n",
       "    <tr>\n",
       "      <th>1</th>\n",
       "      <td>&lt;javascript&gt;&lt;titanium&gt;&lt;appcelerator&gt;&lt;titanium-...</td>\n",
       "    </tr>\n",
       "    <tr>\n",
       "      <th>2</th>\n",
       "      <td>&lt;javascript&gt;&lt;stylesheet&gt;</td>\n",
       "    </tr>\n",
       "    <tr>\n",
       "      <th>3</th>\n",
       "      <td>&lt;c#&gt;&lt;list&gt;&lt;loops&gt;</td>\n",
       "    </tr>\n",
       "    <tr>\n",
       "      <th>4</th>\n",
       "      <td>&lt;python&gt;&lt;.net&gt;&lt;python-3.x&gt;&lt;replace&gt;&lt;character-...</td>\n",
       "    </tr>\n",
       "  </tbody>\n",
       "</table>\n",
       "</div>"
      ],
      "text/plain": [
       "                                                Tags\n",
       "0                                <android><listview>\n",
       "1  <javascript><titanium><appcelerator><titanium-...\n",
       "2                           <javascript><stylesheet>\n",
       "3                                  <c#><list><loops>\n",
       "4  <python><.net><python-3.x><replace><character-..."
      ]
     },
     "execution_count": 2,
     "metadata": {},
     "output_type": "execute_result"
    }
   ],
   "source": [
    "all_Posts = pd.read_csv('PostSample.csv')\n",
    "all_Posts.head()"
   ]
  },
  {
   "cell_type": "code",
   "execution_count": 3,
   "id": "098274f1",
   "metadata": {},
   "outputs": [
    {
     "data": {
      "text/html": [
       "<div>\n",
       "<style scoped>\n",
       "    .dataframe tbody tr th:only-of-type {\n",
       "        vertical-align: middle;\n",
       "    }\n",
       "\n",
       "    .dataframe tbody tr th {\n",
       "        vertical-align: top;\n",
       "    }\n",
       "\n",
       "    .dataframe thead th {\n",
       "        text-align: right;\n",
       "    }\n",
       "</style>\n",
       "<table border=\"1\" class=\"dataframe\">\n",
       "  <thead>\n",
       "    <tr style=\"text-align: right;\">\n",
       "      <th></th>\n",
       "      <th>TagName</th>\n",
       "    </tr>\n",
       "  </thead>\n",
       "  <tbody>\n",
       "    <tr>\n",
       "      <th>0</th>\n",
       "      <td>javascript</td>\n",
       "    </tr>\n",
       "    <tr>\n",
       "      <th>1</th>\n",
       "      <td>python</td>\n",
       "    </tr>\n",
       "    <tr>\n",
       "      <th>2</th>\n",
       "      <td>java</td>\n",
       "    </tr>\n",
       "    <tr>\n",
       "      <th>3</th>\n",
       "      <td>c#</td>\n",
       "    </tr>\n",
       "    <tr>\n",
       "      <th>4</th>\n",
       "      <td>php</td>\n",
       "    </tr>\n",
       "  </tbody>\n",
       "</table>\n",
       "</div>"
      ],
      "text/plain": [
       "      TagName\n",
       "0  javascript\n",
       "1      python\n",
       "2        java\n",
       "3          c#\n",
       "4         php"
      ]
     },
     "execution_count": 3,
     "metadata": {},
     "output_type": "execute_result"
    }
   ],
   "source": [
    "all_Tags = pd.read_csv('PopularTags.csv')\n",
    "all_Tags.head()"
   ]
  },
  {
   "cell_type": "markdown",
   "id": "58aa13d4",
   "metadata": {},
   "source": [
    "From the above, we can see that filtering the tags is straightforward. Unfortunately, due to the need to repeatedly sum the occurrence of each tag over all posts, many efficient tricks such as comprehension or vectorization do not help the slow run-time. As such, the most straightforward approach is shown:"
   ]
  },
  {
   "cell_type": "code",
   "execution_count": 4,
   "id": "0481b2c1",
   "metadata": {},
   "outputs": [
    {
     "data": {
      "text/html": [
       "<div>\n",
       "<style scoped>\n",
       "    .dataframe tbody tr th:only-of-type {\n",
       "        vertical-align: middle;\n",
       "    }\n",
       "\n",
       "    .dataframe tbody tr th {\n",
       "        vertical-align: top;\n",
       "    }\n",
       "\n",
       "    .dataframe thead th {\n",
       "        text-align: right;\n",
       "    }\n",
       "</style>\n",
       "<table border=\"1\" class=\"dataframe\">\n",
       "  <thead>\n",
       "    <tr style=\"text-align: right;\">\n",
       "      <th></th>\n",
       "      <th>Tags</th>\n",
       "    </tr>\n",
       "  </thead>\n",
       "  <tbody>\n",
       "    <tr>\n",
       "      <th>0</th>\n",
       "      <td>&lt;javascript&gt;</td>\n",
       "    </tr>\n",
       "    <tr>\n",
       "      <th>1</th>\n",
       "      <td>&lt;python&gt;</td>\n",
       "    </tr>\n",
       "    <tr>\n",
       "      <th>2</th>\n",
       "      <td>&lt;java&gt;</td>\n",
       "    </tr>\n",
       "    <tr>\n",
       "      <th>3</th>\n",
       "      <td>&lt;c#&gt;</td>\n",
       "    </tr>\n",
       "    <tr>\n",
       "      <th>4</th>\n",
       "      <td>&lt;php&gt;</td>\n",
       "    </tr>\n",
       "  </tbody>\n",
       "</table>\n",
       "</div>"
      ],
      "text/plain": [
       "           Tags\n",
       "0  <javascript>\n",
       "1      <python>\n",
       "2        <java>\n",
       "3          <c#>\n",
       "4         <php>"
      ]
     },
     "execution_count": 4,
     "metadata": {},
     "output_type": "execute_result"
    }
   ],
   "source": [
    "count = 0 #track the number of times a tag is used in the sample\n",
    "#write new csv containing only the tags used in at least 0.2% of posts\n",
    "with open(\"ImportantTags.csv\", 'w', newline='') as f_object:\n",
    "    writer_object = writer(f_object)\n",
    "    writer_object.writerow(['Tags'])\n",
    "    for t in all_Tags[\"TagName\"]:\n",
    "        t = '<' + str(t) + '>'\n",
    "        count = all_Posts[\"Tags\"].str.count(re.escape(t)).sum()\n",
    "        if count >= 100:\n",
    "            writer_object.writerow([str(t)])\n",
    "f_object.close()\n",
    "#we may as well re-use the dataframe all_Tags, since the \"important tags\" are the all the ones we care about\n",
    "all_Tags = None\n",
    "all_Tags = pd.read_csv('ImportantTags.csv')\n",
    "all_Tags.head()"
   ]
  },
  {
   "cell_type": "markdown",
   "id": "5dce1883",
   "metadata": {},
   "source": [
    "This narrows down our number of tags quite a bit:"
   ]
  },
  {
   "cell_type": "code",
   "execution_count": 5,
   "id": "60d1dc79",
   "metadata": {},
   "outputs": [
    {
     "data": {
      "text/html": [
       "<div>\n",
       "<style scoped>\n",
       "    .dataframe tbody tr th:only-of-type {\n",
       "        vertical-align: middle;\n",
       "    }\n",
       "\n",
       "    .dataframe tbody tr th {\n",
       "        vertical-align: top;\n",
       "    }\n",
       "\n",
       "    .dataframe thead th {\n",
       "        text-align: right;\n",
       "    }\n",
       "</style>\n",
       "<table border=\"1\" class=\"dataframe\">\n",
       "  <thead>\n",
       "    <tr style=\"text-align: right;\">\n",
       "      <th></th>\n",
       "      <th>Tags</th>\n",
       "    </tr>\n",
       "  </thead>\n",
       "  <tbody>\n",
       "    <tr>\n",
       "      <th>183</th>\n",
       "      <td>&lt;database-design&gt;</td>\n",
       "    </tr>\n",
       "    <tr>\n",
       "      <th>184</th>\n",
       "      <td>&lt;sql-server-2005&gt;</td>\n",
       "    </tr>\n",
       "    <tr>\n",
       "      <th>185</th>\n",
       "      <td>&lt;version-control&gt;</td>\n",
       "    </tr>\n",
       "    <tr>\n",
       "      <th>186</th>\n",
       "      <td>&lt;visual-studio-2008&gt;</td>\n",
       "    </tr>\n",
       "    <tr>\n",
       "      <th>187</th>\n",
       "      <td>&lt;language-agnostic&gt;</td>\n",
       "    </tr>\n",
       "  </tbody>\n",
       "</table>\n",
       "</div>"
      ],
      "text/plain": [
       "                     Tags\n",
       "183     <database-design>\n",
       "184     <sql-server-2005>\n",
       "185     <version-control>\n",
       "186  <visual-studio-2008>\n",
       "187   <language-agnostic>"
      ]
     },
     "execution_count": 5,
     "metadata": {},
     "output_type": "execute_result"
    }
   ],
   "source": [
    "all_Tags.tail()"
   ]
  },
  {
   "cell_type": "markdown",
   "id": "82a76c97",
   "metadata": {},
   "source": [
    "Now we are only working with 187 tags. One could always refine this further to allow more tags, as stated above it does not seem prudent to consider tags used in less than $0.2 \\%$ of posts. As it turns out, we have some more work to do: we need to determine a suitable metric for the tags."
   ]
  },
  {
   "cell_type": "markdown",
   "id": "31c89f46",
   "metadata": {},
   "source": [
    "## Metrizing the Set of Tags\n",
    "Persistent homology is useful for determining clusters in Euclidean space, but there is no meaningful way to embed Stack Overflow tags into $\\mathbb{R}^n$.\n",
    "In particular, we need a metric to determine \"closeness\" of tags.\n",
    "Intuitively, two tags $T$ and $U$ should be considered close if they are freqeuntly used on the same posts. So if we let $P$ be the set of all posts tagged with $T$ and $Q$ be the set of all posts tagged with $U$, we should expect $T$ and $U$ to be close if there is significant overlap with $P$ and $Q$. More precisely, a metric we can put on T and U is given by $1- \\frac{|P \\cap Q|}{|P \\cup Q|}$, where $|\\cdot|$ denotes set cardinality.\n",
    "With this metric, we construct the distance matrix formed by pairwise distances of the tags and then use [GUDHI](https://gudhi.inria.fr/) to finish the remaining work.\n"
   ]
  },
  {
   "cell_type": "code",
   "execution_count": 6,
   "id": "f2db4a39",
   "metadata": {},
   "outputs": [],
   "source": [
    "# we need to track the number of posts tagged with tag_A or tag_B, and the number of posts tagged with both\n",
    "count_AuB = 0\n",
    "count_AnB = 0\n",
    "\n",
    "# currentCell is used to store each cell of a particular row\n",
    "# each entry is indexed by tag_A,tag_B and the value stored is the distance between them\n",
    "currentCell = []\n",
    "\n",
    "# per_Row is the dictionary that stores each row\n",
    "# it is constructed to easily save the distance matrix as a csv\n",
    "per_Row = {}"
   ]
  },
  {
   "cell_type": "markdown",
   "id": "fbce4aa3",
   "metadata": {},
   "source": [
    "We must once again sum occurrences of each tag over all posts, and this time we also need an extra check over all posts, there is no easy way to determine $|A \\cap B|$ unless we specifically search for both tags in each post. This bottlenecks any efficient tricks we could resort to, just as it did for filtering the tags, so once again the most straightforward approach is shown:"
   ]
  },
  {
   "cell_type": "code",
   "execution_count": 21,
   "id": "b8ba8495",
   "metadata": {},
   "outputs": [],
   "source": [
    "# take tag_A and compare it with every single tag, including itself\n",
    "for tag_A in all_Tags[\"Tags\"]:\n",
    "    count_A = all_Posts[\"Tags\"].str.count(re.escape(tag_A)).sum()\n",
    "    for tag_B in all_Tags[\"Tags\"]:\n",
    "        count_B = all_Posts[\"Tags\"].str.count(re.escape(tag_B)).sum()\n",
    "        # unfortunately, we must determine count_AnB the old-fashioned way\n",
    "        for posts in all_Posts[\"Tags\"]:\n",
    "            if tag_A in posts and tag_B in posts:\n",
    "                count_AnB = count_AnB + 1\n",
    "        count_AuB = count_A + count_B - count_AnB\n",
    "        # calculate the distance, store it in currentCell, and prepare to repeat with the next tag\n",
    "        dist_AB = 1 - count_AnB / count_AuB\n",
    "        currentCell = [*currentCell, dist_AB]\n",
    "        count_AnB = 0\n",
    "    # once we've compared tag_A to every tag, the whole row is complete\n",
    "    per_Row[str(tag_A)] = currentCell\n",
    "    currentCell = []\n",
    "# save the dictionary as a csv, which will act as our distance matrix\n",
    "# no headers since GUDHI needs the distance matrix to consist solely of numbers\n",
    "(pd.DataFrame.from_dict(per_Row).to_csv('DistanceMatrix.csv', header=False, index=False))    "
   ]
  },
  {
   "cell_type": "markdown",
   "id": "31f785b8",
   "metadata": {},
   "source": [
    "## Results\n",
    "Once the distance matrix is ready, we use GUDHI to build a Vietoris-Rips complex, store this complex in a simplex-tree, and use the simplex-tree to compute both the barcode and persistence diagram of the most relevant tags. Originally, the file \"DistanceMatrix.csv\" was read through GUDHI's read_low_triangular_matrix_from_csv_file() utility, and the option to specify a separator for the file was taken for granted. GUDHI sets the default separator to ';', while pandas' to_csv sets the default separator to ',' so naturally this difference skewed the results! Luckily, this is easily corrected."
   ]
  },
  {
   "cell_type": "code",
   "execution_count": 22,
   "id": "cff14d60",
   "metadata": {},
   "outputs": [
    {
     "data": {
      "image/png": "[encoded data removed]",
      "text/plain": [
       "<Figure size 432x288 with 1 Axes>"
      ]
     },
     "metadata": {
      "needs_background": "light"
     },
     "output_type": "display_data"
    },
    {
     "data": {
      "image/png": "[encoded data removed]",
      "text/plain": [
       "<Figure size 432x288 with 1 Axes>"
      ]
     },
     "metadata": {
      "needs_background": "light"
     },
     "output_type": "display_data"
    }
   ],
   "source": [
    "# build VR complex\n",
    "VR_complex = gudhi.RipsComplex\\\n",
    "    (distance_matrix=gudhi.reader_utils.read_lower_triangular_matrix_from_csv_file\n",
    "    ('DistanceMatrix.csv', separator = ','), max_edge_length=1)\n",
    "#then use the complex to build a simplex tree (only dimension 1 is needed since we are focused on clustering)\n",
    "simplex_tree = VR_complex.create_simplex_tree(max_dimension=1)\n",
    "\n",
    "# Compute the persistence, plot and save the barcode and the persistence diagram, then display\n",
    "persistent_hom = simplex_tree.persistence()\n",
    "gudhi.persistence_graphical_tools.plot_persistence_barcode(persistent_hom)\n",
    "plt.pyplot.savefig('Barcode')\n",
    "gudhi.persistence_graphical_tools.plot_persistence_diagram(persistent_hom)\n",
    "plt.pyplot.savefig('PersistenceDiagram')\n",
    "plt.pyplot.show()"
   ]
  },
  {
   "cell_type": "markdown",
   "id": "c5e267b0",
   "metadata": {},
   "source": [
    "The barcode and diagram are in line with our intuition: all but one cluster vanish after $\\epsilon = 1$, since under the metric we used two tags cannot be farther than a distance of $1$ apart. Naturally, though, we do not care about distinct clusters below a certain value. The persistence diagram suggests that the vast majority of deaths occur between $0.8$ and $1$. One can take a peek at the \"DistanceMatrix.csv\" file and observe that, indeed, most pairwise distances occur in this range."
   ]
  },
  {
   "cell_type": "code",
   "execution_count": 26,
   "id": "765d794b",
   "metadata": {},
   "outputs": [
    {
     "data": {
      "text/html": [
       "<div>\n",
       "<style scoped>\n",
       "    .dataframe tbody tr th:only-of-type {\n",
       "        vertical-align: middle;\n",
       "    }\n",
       "\n",
       "    .dataframe tbody tr th {\n",
       "        vertical-align: top;\n",
       "    }\n",
       "\n",
       "    .dataframe thead th {\n",
       "        text-align: right;\n",
       "    }\n",
       "</style>\n",
       "<table border=\"1\" class=\"dataframe\">\n",
       "  <thead>\n",
       "    <tr style=\"text-align: right;\">\n",
       "      <th></th>\n",
       "      <th>0.0</th>\n",
       "      <th>0.9970435193945127</th>\n",
       "      <th>0.9960207803691832</th>\n",
       "      <th>0.9928571428571429</th>\n",
       "      <th>0.9589846192322121</th>\n",
       "      <th>0.9953728186144897</th>\n",
       "      <th>0.8418590143480973</th>\n",
       "      <th>0.7704020530367836</th>\n",
       "      <th>0.9992736780941314</th>\n",
       "      <th>0.9286177806619078</th>\n",
       "      <th>...</th>\n",
       "      <th>1.0.39</th>\n",
       "      <th>1.0.40</th>\n",
       "      <th>0.9982209922909666</th>\n",
       "      <th>0.9998049541642285</th>\n",
       "      <th>0.9996041171813144</th>\n",
       "      <th>1.0.41</th>\n",
       "      <th>1.0.42</th>\n",
       "      <th>1.0.43</th>\n",
       "      <th>0.9994099134539732</th>\n",
       "      <th>0.9998020977637048.1</th>\n",
       "    </tr>\n",
       "  </thead>\n",
       "  <tbody>\n",
       "    <tr>\n",
       "      <th>0</th>\n",
       "      <td>0.997044</td>\n",
       "      <td>0.000000</td>\n",
       "      <td>0.997916</td>\n",
       "      <td>0.998820</td>\n",
       "      <td>0.998267</td>\n",
       "      <td>0.999678</td>\n",
       "      <td>0.992826</td>\n",
       "      <td>0.997580</td>\n",
       "      <td>0.996533</td>\n",
       "      <td>0.999232</td>\n",
       "      <td>...</td>\n",
       "      <td>0.999726</td>\n",
       "      <td>0.998902</td>\n",
       "      <td>1.000000</td>\n",
       "      <td>0.999197</td>\n",
       "      <td>1.000000</td>\n",
       "      <td>0.999179</td>\n",
       "      <td>1.000000</td>\n",
       "      <td>0.999453</td>\n",
       "      <td>0.999730</td>\n",
       "      <td>0.999727</td>\n",
       "    </tr>\n",
       "    <tr>\n",
       "      <th>1</th>\n",
       "      <td>0.996021</td>\n",
       "      <td>0.997916</td>\n",
       "      <td>0.000000</td>\n",
       "      <td>0.996467</td>\n",
       "      <td>0.998006</td>\n",
       "      <td>0.906230</td>\n",
       "      <td>0.994852</td>\n",
       "      <td>0.998278</td>\n",
       "      <td>0.997700</td>\n",
       "      <td>0.998278</td>\n",
       "      <td>...</td>\n",
       "      <td>1.000000</td>\n",
       "      <td>0.999529</td>\n",
       "      <td>0.999533</td>\n",
       "      <td>0.998385</td>\n",
       "      <td>0.999296</td>\n",
       "      <td>1.000000</td>\n",
       "      <td>1.000000</td>\n",
       "      <td>0.999531</td>\n",
       "      <td>1.000000</td>\n",
       "      <td>0.999766</td>\n",
       "    </tr>\n",
       "    <tr>\n",
       "      <th>2</th>\n",
       "      <td>0.992857</td>\n",
       "      <td>0.998820</td>\n",
       "      <td>0.996467</td>\n",
       "      <td>0.000000</td>\n",
       "      <td>0.997990</td>\n",
       "      <td>0.995388</td>\n",
       "      <td>0.992960</td>\n",
       "      <td>0.994131</td>\n",
       "      <td>0.993504</td>\n",
       "      <td>0.997737</td>\n",
       "      <td>...</td>\n",
       "      <td>1.000000</td>\n",
       "      <td>0.999044</td>\n",
       "      <td>0.995479</td>\n",
       "      <td>0.999766</td>\n",
       "      <td>1.000000</td>\n",
       "      <td>1.000000</td>\n",
       "      <td>0.998092</td>\n",
       "      <td>0.999286</td>\n",
       "      <td>0.994785</td>\n",
       "      <td>0.999524</td>\n",
       "    </tr>\n",
       "    <tr>\n",
       "      <th>3</th>\n",
       "      <td>0.958985</td>\n",
       "      <td>0.998267</td>\n",
       "      <td>0.998006</td>\n",
       "      <td>0.997990</td>\n",
       "      <td>0.000000</td>\n",
       "      <td>0.995520</td>\n",
       "      <td>0.946812</td>\n",
       "      <td>0.951301</td>\n",
       "      <td>0.999251</td>\n",
       "      <td>0.986375</td>\n",
       "      <td>...</td>\n",
       "      <td>1.000000</td>\n",
       "      <td>0.999140</td>\n",
       "      <td>1.000000</td>\n",
       "      <td>0.999441</td>\n",
       "      <td>0.999715</td>\n",
       "      <td>0.999429</td>\n",
       "      <td>1.000000</td>\n",
       "      <td>1.000000</td>\n",
       "      <td>1.000000</td>\n",
       "      <td>0.999430</td>\n",
       "    </tr>\n",
       "    <tr>\n",
       "      <th>4</th>\n",
       "      <td>0.995373</td>\n",
       "      <td>0.999678</td>\n",
       "      <td>0.906230</td>\n",
       "      <td>0.995388</td>\n",
       "      <td>0.995520</td>\n",
       "      <td>0.000000</td>\n",
       "      <td>0.997082</td>\n",
       "      <td>0.998778</td>\n",
       "      <td>0.997612</td>\n",
       "      <td>0.998150</td>\n",
       "      <td>...</td>\n",
       "      <td>1.000000</td>\n",
       "      <td>0.999638</td>\n",
       "      <td>1.000000</td>\n",
       "      <td>1.000000</td>\n",
       "      <td>0.999281</td>\n",
       "      <td>0.999640</td>\n",
       "      <td>1.000000</td>\n",
       "      <td>1.000000</td>\n",
       "      <td>1.000000</td>\n",
       "      <td>1.000000</td>\n",
       "    </tr>\n",
       "  </tbody>\n",
       "</table>\n",
       "<p>5 rows × 188 columns</p>\n",
       "</div>"
      ],
      "text/plain": [
       "        0.0  0.9970435193945127  0.9960207803691832  0.9928571428571429  \\\n",
       "0  0.997044            0.000000            0.997916            0.998820   \n",
       "1  0.996021            0.997916            0.000000            0.996467   \n",
       "2  0.992857            0.998820            0.996467            0.000000   \n",
       "3  0.958985            0.998267            0.998006            0.997990   \n",
       "4  0.995373            0.999678            0.906230            0.995388   \n",
       "\n",
       "   0.9589846192322121  0.9953728186144897  0.8418590143480973  \\\n",
       "0            0.998267            0.999678            0.992826   \n",
       "1            0.998006            0.906230            0.994852   \n",
       "2            0.997990            0.995388            0.992960   \n",
       "3            0.000000            0.995520            0.946812   \n",
       "4            0.995520            0.000000            0.997082   \n",
       "\n",
       "   0.7704020530367836  0.9992736780941314  0.9286177806619078  ...    1.0.39  \\\n",
       "0            0.997580            0.996533            0.999232  ...  0.999726   \n",
       "1            0.998278            0.997700            0.998278  ...  1.000000   \n",
       "2            0.994131            0.993504            0.997737  ...  1.000000   \n",
       "3            0.951301            0.999251            0.986375  ...  1.000000   \n",
       "4            0.998778            0.997612            0.998150  ...  1.000000   \n",
       "\n",
       "     1.0.40  0.9982209922909666  0.9998049541642285  0.9996041171813144  \\\n",
       "0  0.998902            1.000000            0.999197            1.000000   \n",
       "1  0.999529            0.999533            0.998385            0.999296   \n",
       "2  0.999044            0.995479            0.999766            1.000000   \n",
       "3  0.999140            1.000000            0.999441            0.999715   \n",
       "4  0.999638            1.000000            1.000000            0.999281   \n",
       "\n",
       "     1.0.41    1.0.42    1.0.43  0.9994099134539732  0.9998020977637048.1  \n",
       "0  0.999179  1.000000  0.999453            0.999730              0.999727  \n",
       "1  1.000000  1.000000  0.999531            1.000000              0.999766  \n",
       "2  1.000000  0.998092  0.999286            0.994785              0.999524  \n",
       "3  0.999429  1.000000  1.000000            1.000000              0.999430  \n",
       "4  0.999640  1.000000  1.000000            1.000000              1.000000  \n",
       "\n",
       "[5 rows x 188 columns]"
      ]
     },
     "execution_count": 26,
     "metadata": {},
     "output_type": "execute_result"
    }
   ],
   "source": [
    "pd.read_csv(\"DistanceMatrix.csv\").head()"
   ]
  },
  {
   "cell_type": "markdown",
   "id": "9f75a423",
   "metadata": {},
   "source": [
    "So to determine which clusters are \"most meaningful,\" we will only look at those persisting beyond a reasonably high value, say $0.98$:"
   ]
  },
  {
   "cell_type": "code",
   "execution_count": 38,
   "id": "c70bef9f",
   "metadata": {},
   "outputs": [
    {
     "data": {
      "image/png": "[encoded data removed]",
      "text/plain": [
       "<Figure size 432x288 with 1 Axes>"
      ]
     },
     "metadata": {
      "needs_background": "light"
     },
     "output_type": "display_data"
    },
    {
     "data": {
      "image/png": "[encoded data removed]",
      "text/plain": [
       "<Figure size 432x288 with 1 Axes>"
      ]
     },
     "metadata": {
      "needs_background": "light"
     },
     "output_type": "display_data"
    }
   ],
   "source": [
    "persistent_hom = simplex_tree.persistence(min_persistence=0.98)\n",
    "gudhi.persistence_graphical_tools.plot_persistence_barcode(persistent_hom)\n",
    "gudhi.persistence_graphical_tools.plot_persistence_diagram(persistent_hom)\n",
    "plt.pyplot.show()"
   ]
  },
  {
   "cell_type": "markdown",
   "id": "b1e43fa2",
   "metadata": {},
   "source": [
    "This narrows it down to $30$ distinct clusters (really $29$, as the one persisting to infinity is a \"trivial cluster\" consisting of all tags). We can narrow it down even further by restricting to, say, $0.988$. We'll also include just the barcode here, as the distances are getting much too small for the persistence diagram to be of use."
   ]
  },
  {
   "cell_type": "code",
   "execution_count": 47,
   "id": "f06135c9",
   "metadata": {},
   "outputs": [
    {
     "data": {
      "image/png": "[encoded data removed]",
      "text/plain": [
       "<Figure size 432x288 with 1 Axes>"
      ]
     },
     "metadata": {
      "needs_background": "light"
     },
     "output_type": "display_data"
    }
   ],
   "source": [
    "persistent_hom = simplex_tree.persistence(min_persistence=0.988)\n",
    "gudhi.persistence_graphical_tools.plot_persistence_barcode(persistent_hom)\n",
    "plt.pyplot.show()"
   ]
  },
  {
   "cell_type": "markdown",
   "id": "ae1759bd",
   "metadata": {},
   "source": [
    "We conclude that, since the minimum persistence of the clusters above is relatively close to $1$, any given tag on a Stack Overflow post is likely to belong to one of these clusters. And to reiterate, tags in the same cluster are used quite often together. A possible application of these findings is as follows: if a user has engaged with posts having a particular tag $T$, other posts relevant to the user may be recommended to them by showing them posts whose tags belong to the same clusters as $T$."
   ]
  }
 ],
 "metadata": {
  "kernelspec": {
   "display_name": "Python 3 (ipykernel)",
   "language": "python",
   "name": "python3"
  },
  "language_info": {
   "codemirror_mode": {
    "name": "ipython",
    "version": 3
   },
   "file_extension": ".py",
   "mimetype": "text/x-python",
   "name": "python",
   "nbconvert_exporter": "python",
   "pygments_lexer": "ipython3",
   "version": "3.9.1"
  }
 },
 "nbformat": 4,
 "nbformat_minor": 5
}
